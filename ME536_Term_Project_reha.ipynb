{
 "cells": [
  {
   "cell_type": "markdown",
   "metadata": {
    "id": "EdOOmbWKlvWV"
   },
   "source": [
    "# ME 536 TERM PROJECT\n",
    "## FELINE DETECTOR\n",
    "### SUBMITTED BY : REHA OĞUZ USLU\n",
    "### 2308500\n",
    "\n",
    "#### Additioal Drive Link For Dataset and Reports : https://drive.google.com/drive/folders/1ArC6LMZw1vEjuvnoQ9DavJD4cDkjdi-U?usp=sharing"
   ]
  },
  {
   "cell_type": "markdown",
   "metadata": {},
   "source": [
    "### Importing Required Libraries"
   ]
  },
  {
   "cell_type": "code",
   "execution_count": 1,
   "metadata": {
    "id": "vFeqJiQqlklE"
   },
   "outputs": [
    {
     "name": "stderr",
     "output_type": "stream",
     "text": [
      "2023-01-29 17:13:17.671343: I tensorflow/core/platform/cpu_feature_guard.cc:193] This TensorFlow binary is optimized with oneAPI Deep Neural Network Library (oneDNN) to use the following CPU instructions in performance-critical operations:  AVX2 FMA\n",
      "To enable them in other operations, rebuild TensorFlow with the appropriate compiler flags.\n"
     ]
    }
   ],
   "source": [
    "import numpy as np\n",
    "import pandas as pd\n",
    "import sklearn\n",
    "import tensorflow as tf\n",
    "from tensorflow.keras import layers\n",
    "from tensorflow.keras import initializers\n",
    "from keras.preprocessing.image import ImageDataGenerator\n",
    "from keras.preprocessing import image\n",
    "import cv2\n",
    "import matplotlib.pyplot as plt\n",
    "from sklearn.decomposition import PCA"
   ]
  },
  {
   "cell_type": "markdown",
   "metadata": {},
   "source": [
    "## ***PREPROCESSING***"
   ]
  },
  {
   "cell_type": "markdown",
   "metadata": {
    "id": "SnPHs_tllq8o"
   },
   "source": [
    "### Preprocessing Training Data\n",
    "\n",
    "   "
   ]
  },
  {
   "cell_type": "markdown",
   "metadata": {},
   "source": [
    " * **There exist 4 clsses such as lion, tiger, leopard and cheetah.**\n",
    " * **All classes have 700 training image and 300 test image.**"
   ]
  },
  {
   "cell_type": "code",
   "execution_count": 2,
   "metadata": {
    "colab": {
     "base_uri": "https://localhost:8080/",
     "height": 514
    },
    "id": "0K00FR7flqRe",
    "outputId": "b79eb302-2da1-4625-c493-3be9044774c7"
   },
   "outputs": [
    {
     "name": "stdout",
     "output_type": "stream",
     "text": [
      "Found 2800 images belonging to 4 classes.\n"
     ]
    }
   ],
   "source": [
    "train_datagen = ImageDataGenerator(\n",
    "    rescale = 1./255,\n",
    "    shear_range = 0.2,\n",
    "    zoom_range = 0.2,\n",
    "    horizontal_flip = True)\n",
    "training_set = train_datagen.flow_from_directory(\n",
    "    'training_dataset',\n",
    "    target_size = (64,64),\n",
    "    batch_size = 1,\n",
    "    class_mode = 'categorical')\n",
    "\n"
   ]
  },
  {
   "cell_type": "markdown",
   "metadata": {
    "id": "crfpuYYNtxEx"
   },
   "source": [
    "### Preprocessing Test Data"
   ]
  },
  {
   "cell_type": "code",
   "execution_count": 3,
   "metadata": {},
   "outputs": [
    {
     "name": "stdout",
     "output_type": "stream",
     "text": [
      "Found 1200 images belonging to 4 classes.\n"
     ]
    }
   ],
   "source": [
    "test_set = train_datagen.flow_from_directory(\n",
    "    'test_dataset',\n",
    "    target_size = (64,64),\n",
    "    batch_size = 1,\n",
    "    class_mode = 'categorical')"
   ]
  },
  {
   "cell_type": "markdown",
   "metadata": {},
   "source": [
    "## ***CNN***"
   ]
  },
  {
   "cell_type": "markdown",
   "metadata": {
    "id": "5EsWPTcTuhco"
   },
   "source": [
    "### Installing CNN\n"
   ]
  },
  {
   "cell_type": "markdown",
   "metadata": {},
   "source": [
    "* **Firstly convolution and maxpooling is done by convolutional neural network.**\n",
    "* **Keras is used for CNN from TensorFlow.**"
   ]
  },
  {
   "cell_type": "code",
   "execution_count": 4,
   "metadata": {
    "id": "0g4_eR3Uu7AX"
   },
   "outputs": [
    {
     "name": "stderr",
     "output_type": "stream",
     "text": [
      "2023-01-29 17:14:03.705093: I tensorflow/core/platform/cpu_feature_guard.cc:193] This TensorFlow binary is optimized with oneAPI Deep Neural Network Library (oneDNN) to use the following CPU instructions in performance-critical operations:  AVX2 FMA\n",
      "To enable them in other operations, rebuild TensorFlow with the appropriate compiler flags.\n"
     ]
    }
   ],
   "source": [
    "cnn = tf.keras.models.Sequential()"
   ]
  },
  {
   "cell_type": "markdown",
   "metadata": {
    "id": "Q5x3KL_RvPyC"
   },
   "source": [
    "### First Convolution Layer"
   ]
  },
  {
   "cell_type": "code",
   "execution_count": 5,
   "metadata": {
    "id": "wfLTlg-0vSLt"
   },
   "outputs": [],
   "source": [
    "cnn.add(tf.keras.layers.Conv2D(filters=16,kernel_size=3,activation = 'relu',input_shape=[64,64,3]))"
   ]
  },
  {
   "cell_type": "markdown",
   "metadata": {
    "id": "7K_dtgsUwgeH"
   },
   "source": [
    "### First Pooling Layer"
   ]
  },
  {
   "cell_type": "code",
   "execution_count": 6,
   "metadata": {
    "id": "qyuAeEghwhbt"
   },
   "outputs": [],
   "source": [
    "cnn.add(tf.keras.layers.MaxPool2D(pool_size=2,strides=2))"
   ]
  },
  {
   "cell_type": "markdown",
   "metadata": {
    "id": "3nIFQBvgxdro"
   },
   "source": [
    "### Second Layer For CNN"
   ]
  },
  {
   "cell_type": "code",
   "execution_count": 7,
   "metadata": {
    "id": "miknobMVxfX-"
   },
   "outputs": [],
   "source": [
    "cnn.add(tf.keras.layers.Conv2D(filters=8,kernel_size=3,activation = 'relu'))\n",
    "cnn.add(tf.keras.layers.MaxPool2D(pool_size=2,strides=2))"
   ]
  },
  {
   "cell_type": "markdown",
   "metadata": {},
   "source": [
    "* **Now we will try to use specified kernel/filter on our data to improve our results.**"
   ]
  },
  {
   "cell_type": "code",
   "execution_count": 8,
   "metadata": {
    "scrolled": true
   },
   "outputs": [
    {
     "name": "stdout",
     "output_type": "stream",
     "text": [
      "2800/2800 [==============================] - 9s 3ms/step\n"
     ]
    }
   ],
   "source": [
    "data = cnn.predict(training_set)"
   ]
  },
  {
   "cell_type": "markdown",
   "metadata": {},
   "source": [
    "* **Check dimensions of data**\n",
    "    * **Expect to see 4D tensor**"
   ]
  },
  {
   "cell_type": "code",
   "execution_count": 9,
   "metadata": {},
   "outputs": [
    {
     "data": {
      "text/plain": [
       "(2800, 14, 14, 8)"
      ]
     },
     "execution_count": 9,
     "metadata": {},
     "output_type": "execute_result"
    }
   ],
   "source": [
    "data.shape"
   ]
  },
  {
   "cell_type": "markdown",
   "metadata": {},
   "source": [
    "* **Okey!! 1. dimension indicates number of data (2800 images)**\n",
    "* **2. and 3. dimensiones  indicate convolved and pooled images height and width (rememeber initially we have 64x64 images).**\n",
    "* **Last dimension shows the batch size/channels.**"
   ]
  },
  {
   "cell_type": "markdown",
   "metadata": {},
   "source": [
    "## ***FILTERING***"
   ]
  },
  {
   "cell_type": "markdown",
   "metadata": {},
   "source": [
    "### Creating Filter/Kernel"
   ]
  },
  {
   "cell_type": "code",
   "execution_count": 10,
   "metadata": {},
   "outputs": [],
   "source": [
    "kernel = tf.constant([\n",
    "    [0, -1,  0],\n",
    "    [-1, 4, -1],\n",
    "    [0, -1,  0],\n",
    "    [0, -1,  0],[-1, 4, -1], [0, -1,  0],[0, -1,  0],[-1, 4, -1], [0, -1,  0],\n",
    "    [0, -1,  0],[-1, 4, -1], [0, -1,  0],[0, -1,  0],[-1, 4, -1], [0, -1,  0],\n",
    "    [0, -1,  0],[-1, 4, -1], [0, -1,  0],[0, -1,  0],[-1, 4, -1], [0, -1,  0],\n",
    "    [0, -1,  0],[-1, 4, -1], [0, -1,  0],[0, -1,  0],[-1, 4, -1], [0, -1,  0],\n",
    "    [0, -1,  0],[-1, 4, -1], [0, -1,  0],[0, -1,  0],[-1, 4, -1], [0, -1,  0],\n",
    "    [0, -1,  0],[-1, 4, -1], [0, -1,  0],[0, -1,  0],[-1, 4, -1], [0, -1,  0],\n",
    "    [0, -1,  0],[-1, 4, -1], [0, -1,  0],[0, -1,  0],[-1, 4, -1], [0, -1,  0],\n",
    "    [0, -1,  0],[-1, 4, -1], [0, -1,  0],[0, -1,  0],[-1, 4, -1], [0, -1,  0],\n",
    "    [0, -1,  0],[-1, 4, -1], [0, -1,  0],[0, -1,  0],[-1, 4, -1], [0, -1,  0],\n",
    "    [0, -1,  0],[-1, 4, -1], [0, -1,  0],[0, -1,  0],[-1, 4, -1], [0, -1,  0],\n",
    "    [0, -1,  0],[-1, 4, -1], [0, -1,  0],[0, -1,  0],[-1, 4, -1], [0, -1,  0],\n",
    "    [0, -1,  0],[-1, 4, -1], [0, -1,  0],[0, -1,  0],[-1, 4, -1], [0, -1,  0],\n",
    "    [0, -1,  0],[-1, 4, -1], [0, -1,  0],[0, -1,  0],[-1, 4, -1], [0, -1,  0],\n",
    "    [0, -1,  0],[-1, 4, -1], [0, -1,  0],[0, -1,  0],[-1, 4, -1], [0, -1,  0],\n",
    "    [0, -1,  0],[-1, 4, -1], [0, -1,  0],[0, -1,  0],[-1, 4, -1], [0, -1,  0],\n",
    "    [0, -1,  0],[-1, 4, -1], [0, -1,  0]\n",
    "    \n",
    "], dtype=tf.float32, name='kernel')"
   ]
  },
  {
   "cell_type": "code",
   "execution_count": 11,
   "metadata": {},
   "outputs": [],
   "source": [
    "kernel = tf.reshape(kernel, [3, 3, 1, 32], name='kernel')"
   ]
  },
  {
   "cell_type": "markdown",
   "metadata": {},
   "source": [
    "### Filtered Data With Specified Kernel"
   ]
  },
  {
   "cell_type": "code",
   "execution_count": 12,
   "metadata": {
    "scrolled": true
   },
   "outputs": [],
   "source": [
    "filtered_data= tf.nn.conv2d(\n",
    "    data, kernel, [1,1,1,1], 'VALID', \n",
    "    data_format='NHWC', dilations=[1, 1, 1, 1], name='kerneled'\n",
    ")\n"
   ]
  },
  {
   "cell_type": "markdown",
   "metadata": {},
   "source": [
    "* **Expect to see 12x12 image after convolution (remember we have images 14x14)**"
   ]
  },
  {
   "cell_type": "code",
   "execution_count": 13,
   "metadata": {},
   "outputs": [
    {
     "data": {
      "text/plain": [
       "TensorShape([2800, 12, 12, 32])"
      ]
     },
     "execution_count": 13,
     "metadata": {},
     "output_type": "execute_result"
    }
   ],
   "source": [
    "filtered_data.shape"
   ]
  },
  {
   "cell_type": "markdown",
   "metadata": {},
   "source": [
    "### Use 5x5 Kernel For This Time"
   ]
  },
  {
   "cell_type": "code",
   "execution_count": 14,
   "metadata": {},
   "outputs": [],
   "source": [
    "kernel2 = tf.constant([\n",
    "    [1, 1, 1, 1,1],\n",
    "    [1,-1,-1,-1,1],\n",
    "    [1,-1,-1,-1,1],\n",
    "    [1,-1,-1,-1,1],\n",
    "    [1, 1, 1, 1,1],\n",
    "    [1,1,1,1,1],[1,-1,-1,-1,1],[1, -1, -1,-1,1],[1,-1,-1,-1,1],[1,1,1,1,1],\n",
    "    [1,1,1,1,1],[1,-1,-1,-1,1],[1, -1, -1,-1,1],[1,-1,-1,-1,1],[1,1,1,1,1],\n",
    "    [1,1,1,1,1],[1,-1,-1,-1,1],[1, -1, -1,-1,1],[1,-1,-1,-1,1],[1,1,1,1,1],\n",
    "    [1,1,1,1,1],[1,-1,-1,-1,1],[1, -1, -1,-1,1],[1,-1,-1,-1,1],[1,1,1,1,1],\n",
    "    [1,1,1,1,1],[1,-1,-1,-1,1],[1, -1, -1,-1,1],[1,-1,-1,-1,1],[1,1,1,1,1],\n",
    "    [1,1,1,1,1],[1,-1,-1,-1,1],[1, -1, -1,-1,1],[1,-1,-1,-1,1],[1,1,1,1,1],\n",
    "    [1,1,1,1,1],[1,-1,-1,-1,1],[1, -1, -1,-1,1],[1,-1,-1,-1,1],[1,1,1,1,1],\n",
    "    [1,1,1,1,1],[1,-1,-1,-1,1],[1, -1, -1,-1,1],[1,-1,-1,-1,1],[1,1,1,1,1],\n",
    "    [1,1,1,1,1],[1,-1,-1,-1,1],[1, -1, -1,-1,1],[1,-1,-1,-1,1],[1,1,1,1,1],\n",
    "    [1,1,1,1,1],[1,-1,-1,-1,1],[1, -1, -1,-1,1],[1,-1,-1,-1,1],[1,1,1,1,1],\n",
    "    [1,1,1,1,1],[1,-1,-1,-1,1],[1, -1, -1,-1,1],[1,-1,-1,-1,1],[1,1,1,1,1],\n",
    "    [1,1,1,1,1],[1,-1,-1,-1,1],[1, -1, -1,-1,1],[1,-1,-1,-1,1],[1,1,1,1,1],\n",
    "    [1,1,1,1,1],[1,-1,-1,-1,1],[1, -1, -1,-1,1],[1,-1,-1,-1,1],[1,1,1,1,1],\n",
    "    [1,1,1,1,1],[1,-1,-1,-1,1],[1, -1, -1,-1,1],[1,-1,-1,-1,1],[1,1,1,1,1],\n",
    "    [1,1,1,1,1],[1,-1,-1,-1,1],[1, -1, -1,-1,1],[1,-1,-1,-1,1],[1,1,1,1,1],\n",
    "    [1,1,1,1,1],[1,-1,-1,-1,1],[1, -1, -1,-1,1],[1,-1,-1,-1,1],[1,1,1,1,1],\n",
    "    [1,1,1,1,1],[1,-1,-1,-1,1],[1, -1, -1,-1,1],[1,-1,-1,-1,1],[1,1,1,1,1],\n",
    "    [1,1,1,1,1],[1,-1,-1,-1,1],[1, -1, -1,-1,1],[1,-1,-1,-1,1],[1,1,1,1,1],\n",
    "    [1,1,1,1,1],[1,-1,-1,-1,1],[1, -1, -1,-1,1],[1,-1,-1,-1,1],[1,1,1,1,1],\n",
    "    [1,1,1,1,1],[1,-1,-1,-1,1],[1, -1, -1,-1,1],[1,-1,-1,-1,1],[1,1,1,1,1],\n",
    "    [1,1,1,1,1],[1,-1,-1,-1,1],[1, -1, -1,-1,1],[1,-1,-1,-1,1],[1,1,1,1,1],\n",
    "    [1,1,1,1,1],[1,-1,-1,-1,1],[1, -1, -1,-1,1],[1,-1,-1,-1,1],[1,1,1,1,1],\n",
    "    [1,1,1,1,1],[1,-1,-1,-1,1],[1, -1, -1,-1,1],[1,-1,-1,-1,1],[1,1,1,1,1],\n",
    "    [1,1,1,1,1],[1,-1,-1,-1,1],[1, -1, -1,-1,1],[1,-1,-1,-1,1],[1,1,1,1,1],\n",
    "    [1,1,1,1,1],[1,-1,-1,-1,1],[1, -1, -1,-1,1],[1,-1,-1,-1,1],[1,1,1,1,1],\n",
    "    [1,1,1,1,1],[1,-1,-1,-1,1],[1, -1, -1,-1,1],[1,-1,-1,-1,1],[1,1,1,1,1],\n",
    "    [1,1,1,1,1],[1,-1,-1,-1,1],[1, -1, -1,-1,1],[1,-1,-1,-1,1],[1,1,1,1,1],\n",
    "    [1,1,1,1,1],[1,-1,-1,-1,1],[1, -1, -1,-1,1],[1,-1,-1,-1,1],[1,1,1,1,1],\n",
    "    [1,1,1,1,1],[1,-1,-1,-1,1],[1, -1, -1,-1,1],[1,-1,-1,-1,1],[1,1,1,1,1],\n",
    "    [1,1,1,1,1],[1,-1,-1,-1,1],[1, -1, -1,-1,1],[1,-1,-1,-1,1],[1,1,1,1,1],\n",
    "    [1,1,1,1,1],[1,-1,-1,-1,1],[1, -1, -1,-1,1],[1,-1,-1,-1,1],[1,1,1,1,1],\n",
    "\n",
    "\n",
    "], dtype=tf.float32, name='kernel')"
   ]
  },
  {
   "cell_type": "code",
   "execution_count": 15,
   "metadata": {},
   "outputs": [],
   "source": [
    "kernel2 = tf.reshape(kernel2, [5, 5, 1, 32], name='kernel')"
   ]
  },
  {
   "cell_type": "code",
   "execution_count": 16,
   "metadata": {},
   "outputs": [],
   "source": [
    "filtered_data2= tf.nn.conv2d(\n",
    "    filtered_data, kernel2, [1,1,1,1], 'VALID', \n",
    "    data_format='NHWC', dilations=[1, 1, 1, 1], name='kerneled'\n",
    ")"
   ]
  },
  {
   "cell_type": "code",
   "execution_count": 17,
   "metadata": {},
   "outputs": [
    {
     "data": {
      "text/plain": [
       "TensorShape([2800, 8, 8, 32])"
      ]
     },
     "execution_count": 17,
     "metadata": {},
     "output_type": "execute_result"
    }
   ],
   "source": [
    "filtered_data2.shape"
   ]
  },
  {
   "cell_type": "markdown",
   "metadata": {},
   "source": [
    "* **Now we need to flatten our data for PCA Analysis**"
   ]
  },
  {
   "cell_type": "markdown",
   "metadata": {},
   "source": [
    "### Flattening Data"
   ]
  },
  {
   "cell_type": "code",
   "execution_count": 18,
   "metadata": {},
   "outputs": [],
   "source": [
    "flatter = tf.keras.models.Sequential()"
   ]
  },
  {
   "cell_type": "code",
   "execution_count": 19,
   "metadata": {},
   "outputs": [],
   "source": [
    "flatter.add(tf.keras.layers.Flatten())"
   ]
  },
  {
   "cell_type": "code",
   "execution_count": 20,
   "metadata": {},
   "outputs": [
    {
     "name": "stdout",
     "output_type": "stream",
     "text": [
      "88/88 [==============================] - 0s 1ms/step\n"
     ]
    }
   ],
   "source": [
    "flatten_data = flatter.predict(filtered_data2)"
   ]
  },
  {
   "cell_type": "markdown",
   "metadata": {},
   "source": [
    "* **We expect to see 2800 data point with 8x8x32 = 2048 dimensions.**"
   ]
  },
  {
   "cell_type": "code",
   "execution_count": 21,
   "metadata": {},
   "outputs": [
    {
     "data": {
      "text/plain": [
       "(2800, 2048)"
      ]
     },
     "execution_count": 21,
     "metadata": {},
     "output_type": "execute_result"
    }
   ],
   "source": [
    "flatten_data.shape"
   ]
  },
  {
   "cell_type": "markdown",
   "metadata": {},
   "source": [
    "## ***PCA ANALYSIS***"
   ]
  },
  {
   "cell_type": "markdown",
   "metadata": {},
   "source": [
    "### Zero Mean Data"
   ]
  },
  {
   "cell_type": "code",
   "execution_count": 22,
   "metadata": {},
   "outputs": [],
   "source": [
    "def ZeroMean(M):\n",
    "    return M - M.mean(axis=1).reshape((M.shape[0],1))"
   ]
  },
  {
   "cell_type": "code",
   "execution_count": 23,
   "metadata": {},
   "outputs": [],
   "source": [
    "data_zm = ZeroMean(flatten_data.T)"
   ]
  },
  {
   "cell_type": "markdown",
   "metadata": {},
   "source": [
    "### SVD"
   ]
  },
  {
   "cell_type": "code",
   "execution_count": 24,
   "metadata": {},
   "outputs": [],
   "source": [
    "U,S,VT = np.linalg.svd(data_zm,full_matrices=False)"
   ]
  },
  {
   "cell_type": "markdown",
   "metadata": {},
   "source": [
    "* **Let look sigma values graphically to estimate real rank.**"
   ]
  },
  {
   "cell_type": "code",
   "execution_count": 25,
   "metadata": {},
   "outputs": [
    {
     "data": {
      "text/plain": [
       "[<matplotlib.lines.Line2D at 0x7fb910d1dd00>]"
      ]
     },
     "execution_count": 25,
     "metadata": {},
     "output_type": "execute_result"
    },
    {
     "data": {
      "image/png": "[encoded data removed]",
      "text/plain": [
       "<Figure size 432x288 with 1 Axes>"
      ]
     },
     "metadata": {
      "needs_background": "light"
     },
     "output_type": "display_data"
    }
   ],
   "source": [
    "plt.plot(S,'r*')"
   ]
  },
  {
   "cell_type": "code",
   "execution_count": 26,
   "metadata": {},
   "outputs": [
    {
     "name": "stdout",
     "output_type": "stream",
     "text": [
      "[681.514   568.7508  484.87863 433.18994 368.97595 362.8315  321.13245\n",
      " 307.0515  282.2572  262.87512 260.6739  253.4559  243.00989 234.03564\n",
      " 230.56721]\n"
     ]
    }
   ],
   "source": [
    "print(S[0:15])l"
   ]
  },
  {
   "cell_type": "markdown",
   "metadata": {},
   "source": [
    "* **It looks like real rank is 1.**\n",
    "* **Check rank by np.linalg.**"
   ]
  },
  {
   "cell_type": "code",
   "execution_count": 27,
   "metadata": {},
   "outputs": [
    {
     "data": {
      "text/plain": [
       "1204"
      ]
     },
     "execution_count": 27,
     "metadata": {},
     "output_type": "execute_result"
    }
   ],
   "source": [
    "np.linalg.matrix_rank(data_zm)"
   ]
  },
  {
   "cell_type": "markdown",
   "metadata": {},
   "source": [
    "* **1024?? WOW**\n",
    "* **Check energy method!**"
   ]
  },
  {
   "cell_type": "code",
   "execution_count": 56,
   "metadata": {},
   "outputs": [],
   "source": [
    "t = 0\n",
    "for i in range(len(S)-1):\n",
    "    t = t + (S[i])**2"
   ]
  },
  {
   "cell_type": "code",
   "execution_count": 29,
   "metadata": {},
   "outputs": [],
   "source": [
    "k = 0 \n",
    "r = 0 \n",
    "for i in range(len(S)):\n",
    "    k = k + (S[i])**2\n",
    "    if k >= 0.9*t :\n",
    "        break\n",
    "    r = r + 1\n"
   ]
  },
  {
   "cell_type": "code",
   "execution_count": 30,
   "metadata": {},
   "outputs": [
    {
     "name": "stdout",
     "output_type": "stream",
     "text": [
      "Total energy:3987717.9350517844\n",
      "Rank Energy:3589100.8272624\n",
      "Real Rank:126\n"
     ]
    }
   ],
   "source": [
    "print(f'Total energy:{t}\\nRank Energy:{k}\\nReal Rank:{r}')"
   ]
  },
  {
   "cell_type": "markdown",
   "metadata": {},
   "source": [
    "* **Energy method indicates rank 8, however it is obvious that our rank is actualy 1.**"
   ]
  },
  {
   "cell_type": "code",
   "execution_count": 32,
   "metadata": {},
   "outputs": [],
   "source": [
    "rank_mat = 126"
   ]
  },
  {
   "cell_type": "code",
   "execution_count": 33,
   "metadata": {},
   "outputs": [],
   "source": [
    "data_w_pca = np.matmul(U[:,rank_mat].reshape(-1,1),VT[rank_mat,:].reshape(1,-1))"
   ]
  },
  {
   "cell_type": "markdown",
   "metadata": {},
   "source": [
    "* **Again take transpose, since we take transpose before zero mean data.**"
   ]
  },
  {
   "cell_type": "code",
   "execution_count": 34,
   "metadata": {},
   "outputs": [],
   "source": [
    "data_w_pca = data_w_pca.T"
   ]
  },
  {
   "cell_type": "code",
   "execution_count": 35,
   "metadata": {},
   "outputs": [
    {
     "data": {
      "text/plain": [
       "(2800, 2048)"
      ]
     },
     "execution_count": 35,
     "metadata": {},
     "output_type": "execute_result"
    }
   ],
   "source": [
    "data_w_pca.shape"
   ]
  },
  {
   "cell_type": "markdown",
   "metadata": {},
   "source": [
    "## ANN"
   ]
  },
  {
   "cell_type": "code",
   "execution_count": 36,
   "metadata": {},
   "outputs": [],
   "source": [
    "ann = tf.keras.models.Sequential()"
   ]
  },
  {
   "cell_type": "code",
   "execution_count": 37,
   "metadata": {},
   "outputs": [],
   "source": [
    "ann.add(tf.keras.layers.Dense(units=64, activation='relu'))\n",
    "ann.add(tf.keras.layers.Dense(units=32, activation='relu'))\n",
    "ann.add(tf.keras.layers.Dense(units=16, activation='relu'))\n",
    "ann.add(tf.keras.layers.Dense(units=8, activation='relu'))\n"
   ]
  },
  {
   "cell_type": "code",
   "execution_count": 38,
   "metadata": {},
   "outputs": [],
   "source": [
    "ann.add(tf.keras.layers.Dense(units=4, activation='softmax'))"
   ]
  },
  {
   "cell_type": "code",
   "execution_count": 39,
   "metadata": {},
   "outputs": [],
   "source": [
    "ann.compile(optimizer = 'adam', loss = 'categorical_crossentropy', metrics = ['accuracy'])"
   ]
  },
  {
   "cell_type": "markdown",
   "metadata": {},
   "source": [
    "* **We need result matrix for ANN to learn which data point belongs to which cluster.**\n",
    "* **Also y_set array should be one hot encoded to be compatible with ANN**"
   ]
  },
  {
   "cell_type": "code",
   "execution_count": 40,
   "metadata": {},
   "outputs": [],
   "source": [
    "a = np.zeros(700)\n",
    "b = 1*np.ones(700)\n",
    "c = 2*np.ones(700)\n",
    "d = 3*np.ones(700)\n",
    "\n",
    "y_set = np.concatenate((a,b,c,d))"
   ]
  },
  {
   "cell_type": "code",
   "execution_count": 41,
   "metadata": {},
   "outputs": [],
   "source": [
    "y_set_ =tf.one_hot(\n",
    "    y_set,\n",
    "    4,\n",
    "    on_value=1,\n",
    "    off_value=0,\n",
    "    axis=-1,\n",
    "    dtype=None,\n",
    "    name=None)"
   ]
  },
  {
   "cell_type": "markdown",
   "metadata": {},
   "source": [
    "### Train ANN"
   ]
  },
  {
   "cell_type": "code",
   "execution_count": 42,
   "metadata": {},
   "outputs": [
    {
     "name": "stdout",
     "output_type": "stream",
     "text": [
      "Epoch 1/100\n",
      "88/88 [==============================] - 1s 2ms/step - loss: 1.3866 - accuracy: 0.2482\n",
      "Epoch 2/100\n",
      "88/88 [==============================] - 0s 2ms/step - loss: 1.3861 - accuracy: 0.2579\n",
      "Epoch 3/100\n",
      "88/88 [==============================] - 0s 2ms/step - loss: 1.3860 - accuracy: 0.2511\n",
      "Epoch 4/100\n",
      "88/88 [==============================] - 0s 3ms/step - loss: 1.3857 - accuracy: 0.2664\n",
      "Epoch 5/100\n",
      "88/88 [==============================] - 0s 2ms/step - loss: 1.3854 - accuracy: 0.2671\n",
      "Epoch 6/100\n",
      "88/88 [==============================] - 0s 2ms/step - loss: 1.3853 - accuracy: 0.2593\n",
      "Epoch 7/100\n",
      "88/88 [==============================] - 0s 2ms/step - loss: 1.3855 - accuracy: 0.2621\n",
      "Epoch 8/100\n",
      "88/88 [==============================] - 0s 2ms/step - loss: 1.3853 - accuracy: 0.2671\n",
      "Epoch 9/100\n",
      "88/88 [==============================] - 0s 2ms/step - loss: 1.3857 - accuracy: 0.2636\n",
      "Epoch 10/100\n",
      "88/88 [==============================] - 0s 2ms/step - loss: 1.3853 - accuracy: 0.2671\n",
      "Epoch 11/100\n",
      "88/88 [==============================] - 0s 2ms/step - loss: 1.3851 - accuracy: 0.2693\n",
      "Epoch 12/100\n",
      "88/88 [==============================] - 0s 2ms/step - loss: 1.3854 - accuracy: 0.2636\n",
      "Epoch 13/100\n",
      "88/88 [==============================] - 0s 2ms/step - loss: 1.3853 - accuracy: 0.2661\n",
      "Epoch 14/100\n",
      "88/88 [==============================] - 0s 2ms/step - loss: 1.3853 - accuracy: 0.2629\n",
      "Epoch 15/100\n",
      "88/88 [==============================] - 0s 3ms/step - loss: 1.3856 - accuracy: 0.2664\n",
      "Epoch 16/100\n",
      "88/88 [==============================] - 0s 2ms/step - loss: 1.3850 - accuracy: 0.2671\n",
      "Epoch 17/100\n",
      "88/88 [==============================] - 0s 2ms/step - loss: 1.3852 - accuracy: 0.2664\n",
      "Epoch 18/100\n",
      "88/88 [==============================] - 0s 2ms/step - loss: 1.3851 - accuracy: 0.2664\n",
      "Epoch 19/100\n",
      "88/88 [==============================] - 0s 2ms/step - loss: 1.3851 - accuracy: 0.2689\n",
      "Epoch 20/100\n",
      "88/88 [==============================] - 0s 2ms/step - loss: 1.3853 - accuracy: 0.2621\n",
      "Epoch 21/100\n",
      "88/88 [==============================] - 0s 2ms/step - loss: 1.3852 - accuracy: 0.2668\n",
      "Epoch 22/100\n",
      "88/88 [==============================] - 0s 2ms/step - loss: 1.3850 - accuracy: 0.2679\n",
      "Epoch 23/100\n",
      "88/88 [==============================] - 0s 2ms/step - loss: 1.3850 - accuracy: 0.2639\n",
      "Epoch 24/100\n",
      "88/88 [==============================] - 0s 2ms/step - loss: 1.3851 - accuracy: 0.2664\n",
      "Epoch 25/100\n",
      "88/88 [==============================] - 0s 2ms/step - loss: 1.3850 - accuracy: 0.2679\n",
      "Epoch 26/100\n",
      "88/88 [==============================] - 0s 2ms/step - loss: 1.3851 - accuracy: 0.2714\n",
      "Epoch 27/100\n",
      "88/88 [==============================] - 0s 2ms/step - loss: 1.3848 - accuracy: 0.2682\n",
      "Epoch 28/100\n",
      "88/88 [==============================] - 0s 2ms/step - loss: 1.3854 - accuracy: 0.2664\n",
      "Epoch 29/100\n",
      "88/88 [==============================] - 0s 2ms/step - loss: 1.3851 - accuracy: 0.2654\n",
      "Epoch 30/100\n",
      "88/88 [==============================] - 0s 2ms/step - loss: 1.3849 - accuracy: 0.2693\n",
      "Epoch 31/100\n",
      "88/88 [==============================] - 0s 2ms/step - loss: 1.3849 - accuracy: 0.2643\n",
      "Epoch 32/100\n",
      "88/88 [==============================] - 0s 2ms/step - loss: 1.3848 - accuracy: 0.2679\n",
      "Epoch 33/100\n",
      "88/88 [==============================] - 0s 2ms/step - loss: 1.3848 - accuracy: 0.2632\n",
      "Epoch 34/100\n",
      "88/88 [==============================] - 0s 2ms/step - loss: 1.3847 - accuracy: 0.2679\n",
      "Epoch 35/100\n",
      "88/88 [==============================] - 0s 2ms/step - loss: 1.3849 - accuracy: 0.2686\n",
      "Epoch 36/100\n",
      "88/88 [==============================] - 0s 2ms/step - loss: 1.3846 - accuracy: 0.2657\n",
      "Epoch 37/100\n",
      "88/88 [==============================] - 0s 2ms/step - loss: 1.3847 - accuracy: 0.2639\n",
      "Epoch 38/100\n",
      "88/88 [==============================] - 0s 2ms/step - loss: 1.3849 - accuracy: 0.2621\n",
      "Epoch 39/100\n",
      "88/88 [==============================] - 0s 2ms/step - loss: 1.3847 - accuracy: 0.2671\n",
      "Epoch 40/100\n",
      "88/88 [==============================] - 0s 2ms/step - loss: 1.3847 - accuracy: 0.2679\n",
      "Epoch 41/100\n",
      "88/88 [==============================] - 0s 2ms/step - loss: 1.3847 - accuracy: 0.2646\n",
      "Epoch 42/100\n",
      "88/88 [==============================] - 0s 2ms/step - loss: 1.3845 - accuracy: 0.2668\n",
      "Epoch 43/100\n",
      "88/88 [==============================] - 0s 2ms/step - loss: 1.3848 - accuracy: 0.2661\n",
      "Epoch 44/100\n",
      "88/88 [==============================] - 0s 2ms/step - loss: 1.3846 - accuracy: 0.2679\n",
      "Epoch 45/100\n",
      "88/88 [==============================] - 0s 2ms/step - loss: 1.3844 - accuracy: 0.2671\n",
      "Epoch 46/100\n",
      "88/88 [==============================] - 0s 2ms/step - loss: 1.3842 - accuracy: 0.2668\n",
      "Epoch 47/100\n",
      "88/88 [==============================] - 0s 2ms/step - loss: 1.3844 - accuracy: 0.2625\n",
      "Epoch 48/100\n",
      "88/88 [==============================] - 0s 2ms/step - loss: 1.3845 - accuracy: 0.2700\n",
      "Epoch 49/100\n",
      "88/88 [==============================] - 0s 2ms/step - loss: 1.3845 - accuracy: 0.2686\n",
      "Epoch 50/100\n",
      "88/88 [==============================] - 0s 2ms/step - loss: 1.3844 - accuracy: 0.2671\n",
      "Epoch 51/100\n",
      "88/88 [==============================] - 0s 2ms/step - loss: 1.3846 - accuracy: 0.2675\n",
      "Epoch 52/100\n",
      "88/88 [==============================] - 0s 2ms/step - loss: 1.3841 - accuracy: 0.2682\n",
      "Epoch 53/100\n",
      "88/88 [==============================] - 0s 2ms/step - loss: 1.3841 - accuracy: 0.2668\n",
      "Epoch 54/100\n",
      "88/88 [==============================] - 0s 2ms/step - loss: 1.3842 - accuracy: 0.2675\n",
      "Epoch 55/100\n",
      "88/88 [==============================] - 0s 2ms/step - loss: 1.3841 - accuracy: 0.2679\n",
      "Epoch 56/100\n",
      "88/88 [==============================] - 0s 2ms/step - loss: 1.3843 - accuracy: 0.2643\n",
      "Epoch 57/100\n",
      "88/88 [==============================] - 0s 2ms/step - loss: 1.3841 - accuracy: 0.2679\n",
      "Epoch 58/100\n",
      "88/88 [==============================] - 0s 2ms/step - loss: 1.3838 - accuracy: 0.2707\n",
      "Epoch 59/100\n",
      "88/88 [==============================] - 0s 2ms/step - loss: 1.3841 - accuracy: 0.2639\n",
      "Epoch 60/100\n",
      "88/88 [==============================] - 0s 2ms/step - loss: 1.3840 - accuracy: 0.2668\n",
      "Epoch 61/100\n",
      "88/88 [==============================] - 0s 2ms/step - loss: 1.3846 - accuracy: 0.2639\n",
      "Epoch 62/100\n",
      "88/88 [==============================] - 0s 2ms/step - loss: 1.3840 - accuracy: 0.2679\n",
      "Epoch 63/100\n",
      "88/88 [==============================] - 0s 2ms/step - loss: 1.3838 - accuracy: 0.2646\n",
      "Epoch 64/100\n",
      "88/88 [==============================] - 0s 2ms/step - loss: 1.3839 - accuracy: 0.2675\n",
      "Epoch 65/100\n",
      "88/88 [==============================] - 0s 2ms/step - loss: 1.3836 - accuracy: 0.2675\n",
      "Epoch 66/100\n",
      "88/88 [==============================] - 0s 3ms/step - loss: 1.3839 - accuracy: 0.2689\n",
      "Epoch 67/100\n",
      "88/88 [==============================] - 0s 3ms/step - loss: 1.3838 - accuracy: 0.2700\n",
      "Epoch 68/100\n",
      "88/88 [==============================] - 0s 2ms/step - loss: 1.3837 - accuracy: 0.2643\n",
      "Epoch 69/100\n",
      "88/88 [==============================] - 0s 2ms/step - loss: 1.3842 - accuracy: 0.2682\n",
      "Epoch 70/100\n",
      "88/88 [==============================] - 0s 2ms/step - loss: 1.3839 - accuracy: 0.2664\n",
      "Epoch 71/100\n",
      "88/88 [==============================] - 0s 3ms/step - loss: 1.3841 - accuracy: 0.2632\n",
      "Epoch 72/100\n",
      "88/88 [==============================] - 0s 2ms/step - loss: 1.3837 - accuracy: 0.2650\n",
      "Epoch 73/100\n",
      "88/88 [==============================] - 0s 2ms/step - loss: 1.3838 - accuracy: 0.2679\n",
      "Epoch 74/100\n",
      "88/88 [==============================] - 0s 2ms/step - loss: 1.3836 - accuracy: 0.2661\n",
      "Epoch 75/100\n",
      "88/88 [==============================] - 0s 2ms/step - loss: 1.3837 - accuracy: 0.2689\n",
      "Epoch 76/100\n",
      "88/88 [==============================] - 0s 2ms/step - loss: 1.3836 - accuracy: 0.2661\n",
      "Epoch 77/100\n",
      "88/88 [==============================] - 0s 2ms/step - loss: 1.3838 - accuracy: 0.2636\n",
      "Epoch 78/100\n",
      "88/88 [==============================] - 0s 2ms/step - loss: 1.3839 - accuracy: 0.2682\n",
      "Epoch 79/100\n",
      "88/88 [==============================] - 0s 2ms/step - loss: 1.3833 - accuracy: 0.2679\n",
      "Epoch 80/100\n",
      "88/88 [==============================] - 0s 2ms/step - loss: 1.3840 - accuracy: 0.2625\n",
      "Epoch 81/100\n",
      "88/88 [==============================] - 0s 2ms/step - loss: 1.3835 - accuracy: 0.2718\n",
      "Epoch 82/100\n",
      "88/88 [==============================] - 0s 2ms/step - loss: 1.3834 - accuracy: 0.2718\n",
      "Epoch 83/100\n"
     ]
    },
    {
     "name": "stdout",
     "output_type": "stream",
     "text": [
      "88/88 [==============================] - 0s 2ms/step - loss: 1.3836 - accuracy: 0.2664\n",
      "Epoch 84/100\n",
      "88/88 [==============================] - 0s 2ms/step - loss: 1.3834 - accuracy: 0.2668\n",
      "Epoch 85/100\n",
      "88/88 [==============================] - 0s 2ms/step - loss: 1.3836 - accuracy: 0.2675\n",
      "Epoch 86/100\n",
      "88/88 [==============================] - 0s 2ms/step - loss: 1.3833 - accuracy: 0.2657\n",
      "Epoch 87/100\n",
      "88/88 [==============================] - 0s 2ms/step - loss: 1.3832 - accuracy: 0.2643\n",
      "Epoch 88/100\n",
      "88/88 [==============================] - 0s 2ms/step - loss: 1.3833 - accuracy: 0.2689\n",
      "Epoch 89/100\n",
      "88/88 [==============================] - 0s 2ms/step - loss: 1.3832 - accuracy: 0.2639\n",
      "Epoch 90/100\n",
      "88/88 [==============================] - 0s 3ms/step - loss: 1.3831 - accuracy: 0.2704\n",
      "Epoch 91/100\n",
      "88/88 [==============================] - 0s 3ms/step - loss: 1.3831 - accuracy: 0.2725\n",
      "Epoch 92/100\n",
      "88/88 [==============================] - 0s 3ms/step - loss: 1.3832 - accuracy: 0.2668\n",
      "Epoch 93/100\n",
      "88/88 [==============================] - 0s 3ms/step - loss: 1.3833 - accuracy: 0.2650\n",
      "Epoch 94/100\n",
      "88/88 [==============================] - 0s 2ms/step - loss: 1.3833 - accuracy: 0.2682\n",
      "Epoch 95/100\n",
      "88/88 [==============================] - 0s 3ms/step - loss: 1.3831 - accuracy: 0.2721\n",
      "Epoch 96/100\n",
      "88/88 [==============================] - 0s 3ms/step - loss: 1.3833 - accuracy: 0.2700\n",
      "Epoch 97/100\n",
      "88/88 [==============================] - 0s 2ms/step - loss: 1.3830 - accuracy: 0.2768\n",
      "Epoch 98/100\n",
      "88/88 [==============================] - 0s 2ms/step - loss: 1.3828 - accuracy: 0.2682\n",
      "Epoch 99/100\n",
      "88/88 [==============================] - 0s 2ms/step - loss: 1.3829 - accuracy: 0.2739\n",
      "Epoch 100/100\n",
      "88/88 [==============================] - 0s 2ms/step - loss: 1.3831 - accuracy: 0.2768\n"
     ]
    },
    {
     "data": {
      "text/plain": [
       "<keras.callbacks.History at 0x7fb8fdaeb790>"
      ]
     },
     "execution_count": 42,
     "metadata": {},
     "output_type": "execute_result"
    }
   ],
   "source": [
    "ann.fit(data_w_pca, y_set_, batch_size = 32, epochs = 100)"
   ]
  },
  {
   "cell_type": "markdown",
   "metadata": {},
   "source": [
    "### Preprocessing  Single Test Image"
   ]
  },
  {
   "cell_type": "code",
   "execution_count": 104,
   "metadata": {},
   "outputs": [
    {
     "name": "stdout",
     "output_type": "stream",
     "text": [
      "Found 1 images belonging to 1 classes.\n"
     ]
    }
   ],
   "source": [
    "test_image = train_datagen.flow_from_directory(\n",
    "    'test_image',\n",
    "    target_size = (64,64),\n",
    "    batch_size = 1,\n",
    "    class_mode = 'categorical')\n"
   ]
  },
  {
   "cell_type": "code",
   "execution_count": 105,
   "metadata": {},
   "outputs": [
    {
     "name": "stdout",
     "output_type": "stream",
     "text": [
      "1/1 [==============================] - 0s 44ms/step\n"
     ]
    }
   ],
   "source": [
    "test_image = cnn.predict(test_image)"
   ]
  },
  {
   "cell_type": "code",
   "execution_count": 106,
   "metadata": {},
   "outputs": [
    {
     "data": {
      "text/plain": [
       "(1, 14, 14, 8)"
      ]
     },
     "execution_count": 106,
     "metadata": {},
     "output_type": "execute_result"
    }
   ],
   "source": [
    "test_image.shape"
   ]
  },
  {
   "cell_type": "code",
   "execution_count": 107,
   "metadata": {},
   "outputs": [],
   "source": [
    "filtered_test_img = tf.nn.conv2d(\n",
    "    test_image, kernel, [1,1,1,1], 'VALID', \n",
    "    data_format='NHWC', dilations=[1, 1, 1, 1], name='kerneled'\n",
    ")\n"
   ]
  },
  {
   "cell_type": "code",
   "execution_count": 108,
   "metadata": {},
   "outputs": [],
   "source": [
    "filtered_test_img_fnl = tf.nn.conv2d(\n",
    "    filtered_test_img, kernel2, [1,1,1,1], 'VALID', \n",
    "    data_format='NHWC', dilations=[1, 1, 1, 1], name='kerneled'\n",
    ")\n"
   ]
  },
  {
   "cell_type": "code",
   "execution_count": 109,
   "metadata": {},
   "outputs": [
    {
     "name": "stdout",
     "output_type": "stream",
     "text": [
      "1/1 [==============================] - 0s 30ms/step\n"
     ]
    }
   ],
   "source": [
    "filtered_test_img = flatter.predict(filtered_test_img_fnl)"
   ]
  },
  {
   "cell_type": "code",
   "execution_count": 110,
   "metadata": {},
   "outputs": [],
   "source": [
    "filtered_test_img = ZeroMean(filtered_test_img)"
   ]
  },
  {
   "cell_type": "code",
   "execution_count": 111,
   "metadata": {},
   "outputs": [
    {
     "data": {
      "text/plain": [
       "(1, 2048)"
      ]
     },
     "execution_count": 111,
     "metadata": {},
     "output_type": "execute_result"
    }
   ],
   "source": [
    "filtered_test_img.shape"
   ]
  },
  {
   "cell_type": "markdown",
   "metadata": {},
   "source": [
    "### Result"
   ]
  },
  {
   "cell_type": "code",
   "execution_count": 112,
   "metadata": {},
   "outputs": [
    {
     "name": "stdout",
     "output_type": "stream",
     "text": [
      "1/1 [==============================] - 0s 21ms/step\n",
      "Model: \"sequential\"\n",
      "_________________________________________________________________\n",
      " Layer (type)                Output Shape              Param #   \n",
      "=================================================================\n",
      " conv2d (Conv2D)             (None, 62, 62, 16)        448       \n",
      "                                                                 \n",
      " max_pooling2d (MaxPooling2D  (None, 31, 31, 16)       0         \n",
      " )                                                               \n",
      "                                                                 \n",
      " conv2d_1 (Conv2D)           (None, 29, 29, 8)         1160      \n",
      "                                                                 \n",
      " max_pooling2d_1 (MaxPooling  (None, 14, 14, 8)        0         \n",
      " 2D)                                                             \n",
      "                                                                 \n",
      "=================================================================\n",
      "Total params: 1,608\n",
      "Trainable params: 1,608\n",
      "Non-trainable params: 0\n",
      "_________________________________________________________________\n",
      "None\n"
     ]
    }
   ],
   "source": [
    "result = ann.predict(filtered_test_img)\n",
    "training_set.class_indices\n",
    "      \n",
    "print(cnn.summary())"
   ]
  },
  {
   "cell_type": "markdown",
   "metadata": {},
   "source": [
    "### Creating Tresholds For Nolvalty Detection"
   ]
  },
  {
   "cell_type": "code",
   "execution_count": 113,
   "metadata": {},
   "outputs": [
    {
     "name": "stdout",
     "output_type": "stream",
     "text": [
      "Tiger Similarity : 23.25342893600464% \n",
      "Lion Similarity : 21.371516585350037% \n",
      "Leopard Similarity : 18.614377081394196% \n",
      "Cheetah Similarity : 36.76068186759949% \n"
     ]
    }
   ],
   "source": [
    "print(f\"Tiger Similarity : {result[0][2]*100}% \\nLion Similarity : {result[0][1]*100}% \\nLeopard Similarity : {result[0][0]*100}% \\nCheetah Similarity : {result[0][3]*100}% \")\n"
   ]
  },
  {
   "cell_type": "markdown",
   "metadata": {},
   "source": [
    "### Result Printer"
   ]
  },
  {
   "cell_type": "code",
   "execution_count": 114,
   "metadata": {},
   "outputs": [
    {
     "name": "stdout",
     "output_type": "stream",
     "text": [
      "NEW \n",
      "NEW KIND OF FELINE \n",
      "\n"
     ]
    }
   ],
   "source": [
    "m = max(result[0])\n",
    "if m*100<50 and m*100>30:\n",
    "    print('NEW \\nNEW KIND OF FELINE \\n')\n",
    "elif m*100<=30:\n",
    "    print('NEW \\nNOT FELINE\\n')\n",
    "else:\n",
    "    print(f'NOT NEW')\n",
    "    \n",
    "    if m == result[0][0]:\n",
    "        print('IT IS TIGER!')\n",
    "    elif m == result[0][1]:\n",
    "        print('IT IS LION!')\n",
    "    elif m == result[0][0]:\n",
    "        print('IT IS LEOPARD!')\n",
    "    else:\n",
    "        print('IT IS CHETAH!')"
   ]
  },
  {
   "cell_type": "code",
   "execution_count": null,
   "metadata": {},
   "outputs": [],
   "source": []
  }
 ],
 "metadata": {
  "celltoolbar": "Raw Cell Format",
  "colab": {
   "provenance": []
  },
  "kernelspec": {
   "display_name": "Python 3 (ipykernel)",
   "language": "python",
   "name": "python3"
  },
  "language_info": {
   "codemirror_mode": {
    "name": "ipython",
    "version": 3
   },
   "file_extension": ".py",
   "mimetype": "text/x-python",
   "name": "python",
   "nbconvert_exporter": "python",
   "pygments_lexer": "ipython3",
   "version": "3.9.12"
  }
 },
 "nbformat": 4,
 "nbformat_minor": 1
}
